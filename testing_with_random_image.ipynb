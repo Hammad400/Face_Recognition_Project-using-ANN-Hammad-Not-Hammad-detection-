{
 "cells": [
  {
   "cell_type": "code",
   "execution_count": 1,
   "id": "21e3e595-1379-424c-b54b-b2b039634a68",
   "metadata": {},
   "outputs": [],
   "source": [
    "from keras.models import load_model\n",
    "from PIL import Image\n",
    "from keras.preprocessing.image import load_img\n",
    "import numpy as np"
   ]
  },
  {
   "cell_type": "code",
   "execution_count": 2,
   "id": "b5457b7b-9f59-4d7f-b319-f8588e64da79",
   "metadata": {},
   "outputs": [],
   "source": [
    "celebrity_dict = {0:'Not_hammad', 1:'hammad'}"
   ]
  },
  {
   "cell_type": "code",
   "execution_count": 3,
   "id": "cac71796-67d8-4fdc-9644-d64a85977348",
   "metadata": {},
   "outputs": [],
   "source": [
    "img_path='Cropped_images/hammad/hammad2.jpg'"
   ]
  },
  {
   "cell_type": "code",
   "execution_count": 5,
   "id": "a4db0e8c-69ce-4b40-966c-a3e09ced87d9",
   "metadata": {},
   "outputs": [],
   "source": [
    "model = load_model('hammad_recognition.h5')"
   ]
  },
  {
   "cell_type": "code",
   "execution_count": 6,
   "id": "0317f49c-7f1d-4ac8-8af9-05d8c94f73e2",
   "metadata": {},
   "outputs": [
    {
     "name": "stderr",
     "output_type": "stream",
     "text": [
      "C:\\Users\\BILAL.COM\\AppData\\Local\\Programs\\Python\\Python311\\Lib\\site-packages\\keras\\src\\utils\\image_utils.py:409: UserWarning: grayscale is deprecated. Please use color_mode = \"grayscale\"\n",
      "  warnings.warn(\n"
     ]
    },
    {
     "name": "stdout",
     "output_type": "stream",
     "text": [
      "1/1 [==============================] - 0s 457ms/step\n"
     ]
    }
   ],
   "source": [
    "img = load_img(img_path, grayscale=True)\n",
    "img = img.resize((128, 128))\n",
    "img = np.array(img)\n",
    "img=img.reshape(128,128,1)\n",
    "img=img/255.0\n",
    "pred = model.predict(img.reshape(1, 128, 128, 1))\n",
    "pred = np.argmax(pred.round(2))\n",
    "prediction=celebrity_dict[pred]"
   ]
  },
  {
   "cell_type": "code",
   "execution_count": 7,
   "id": "29341ec4-79fb-454e-b223-ded83dff5132",
   "metadata": {},
   "outputs": [
    {
     "data": {
      "text/plain": [
       "'hammad'"
      ]
     },
     "execution_count": 7,
     "metadata": {},
     "output_type": "execute_result"
    }
   ],
   "source": [
    "prediction"
   ]
  }
 ],
 "metadata": {
  "kernelspec": {
   "display_name": "Python 3 (ipykernel)",
   "language": "python",
   "name": "python3"
  },
  "language_info": {
   "codemirror_mode": {
    "name": "ipython",
    "version": 3
   },
   "file_extension": ".py",
   "mimetype": "text/x-python",
   "name": "python",
   "nbconvert_exporter": "python",
   "pygments_lexer": "ipython3",
   "version": "3.11.4"
  }
 },
 "nbformat": 4,
 "nbformat_minor": 5
}
